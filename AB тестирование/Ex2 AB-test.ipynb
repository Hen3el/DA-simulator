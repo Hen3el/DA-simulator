{
 "cells": [
  {
   "cell_type": "markdown",
   "id": "704bbb4c-7b22-42ff-a5a7-fcfca282d813",
   "metadata": {},
   "source": [
    "## Задание 2. A/B тестирование\n",
    "Эксперимент проходил с 2024-01-26 по 2024-02-01 включительно, задействованы 2 (тест) и 1 (контроль) группы.\n",
    "1. Выбрать метод анализа и сравнить CTR в двух группах (мы разбирали t-тест, Пуассоновский бутстреп, тест Манна-Уитни, t-тест на сглаженном ctr (α=5) а также t-тест и тест Манна-Уитни поверх бакетного преобразования).\n",
    "2. Сравнить данные этими тестами. Посмотреть на распределения глазами. Почему тесты сработали именно так? \n",
    "3. Описать потенциальную ситуацию, когда такое изменение могло произойти.\n",
    "4. Написать рекомендацию, будем ли мы раскатывать новый алгоритм на всех новых пользователей или все-таки не стоит."
   ]
  },
  {
   "cell_type": "code",
   "execution_count": 1,
   "id": "f00efd18-3a55-4aba-b185-75186692c062",
   "metadata": {},
   "outputs": [],
   "source": [
    "import pandahouse\n",
    "import pandas as pd\n",
    "import seaborn as sns\n",
    "import matplotlib.pyplot as plt\n",
    "import numpy as np\n",
    "from scipy import stats\n",
    "%matplotlib inline"
   ]
  },
  {
   "cell_type": "code",
   "execution_count": 2,
   "id": "e65b1fe3-0601-4bcf-a0e5-3315a690919a",
   "metadata": {},
   "outputs": [],
   "source": [
    "connection = {'host': '*',\n",
    "'database':'*',\n",
    "'user':'*',\n",
    "'password':'*'\n",
    "}\n",
    "ALFA = 0.05"
   ]
  },
  {
   "cell_type": "code",
   "execution_count": 92,
   "id": "9c61826c-33c1-49de-9a8b-0198a76fb069",
   "metadata": {},
   "outputs": [
    {
     "data": {
      "text/html": [
       "<div>\n",
       "<style scoped>\n",
       "    .dataframe tbody tr th:only-of-type {\n",
       "        vertical-align: middle;\n",
       "    }\n",
       "\n",
       "    .dataframe tbody tr th {\n",
       "        vertical-align: top;\n",
       "    }\n",
       "\n",
       "    .dataframe thead th {\n",
       "        text-align: right;\n",
       "    }\n",
       "</style>\n",
       "<table border=\"1\" class=\"dataframe\">\n",
       "  <thead>\n",
       "    <tr style=\"text-align: right;\">\n",
       "      <th></th>\n",
       "      <th>user_id</th>\n",
       "      <th>likes</th>\n",
       "      <th>views</th>\n",
       "      <th>ctr</th>\n",
       "    </tr>\n",
       "    <tr>\n",
       "      <th>exp_group</th>\n",
       "      <th></th>\n",
       "      <th></th>\n",
       "      <th></th>\n",
       "      <th></th>\n",
       "    </tr>\n",
       "  </thead>\n",
       "  <tbody>\n",
       "    <tr>\n",
       "      <th>1</th>\n",
       "      <td>10020</td>\n",
       "      <td>10020</td>\n",
       "      <td>10020</td>\n",
       "      <td>10020</td>\n",
       "    </tr>\n",
       "    <tr>\n",
       "      <th>2</th>\n",
       "      <td>9877</td>\n",
       "      <td>9877</td>\n",
       "      <td>9877</td>\n",
       "      <td>9877</td>\n",
       "    </tr>\n",
       "  </tbody>\n",
       "</table>\n",
       "</div>"
      ],
      "text/plain": [
       "           user_id  likes  views    ctr\n",
       "exp_group                              \n",
       "1            10020  10020  10020  10020\n",
       "2             9877   9877   9877   9877"
      ]
     },
     "execution_count": 92,
     "metadata": {},
     "output_type": "execute_result"
    }
   ],
   "source": [
    "q = \"\"\"\n",
    "SELECT exp_group, \n",
    "    user_id,\n",
    "    sum(action = 'like') as likes,\n",
    "    sum(action = 'view') as views,\n",
    "    likes/views as ctr\n",
    "FROM simulator_20240220.feed_actions \n",
    "WHERE toDate(time) between '2024-01-26' and '2024-02-01'\n",
    "    and exp_group in (1,2)\n",
    "GROUP BY exp_group, user_id\n",
    "\"\"\"\n",
    "\n",
    "df = pandahouse.read_clickhouse(q, connection=connection)\n",
    "df.groupby('exp_group').count()"
   ]
  },
  {
   "cell_type": "markdown",
   "id": "b58094e0-d39f-46e3-a8d1-ae43b7e7448d",
   "metadata": {},
   "source": [
    "<h2>Постановка гипотез</h2>\n",
    "<h3>\n",
    "<ul>\n",
    "    <li> Нулевая гипотеза: средние CTR двух групп одинаковые. </li><br>\n",
    "    <li> Альтернативная: средние CTR групп отличаются.</li>\n",
    "</ul></h3>"
   ]
  },
  {
   "cell_type": "code",
   "execution_count": 15,
   "id": "f1e2270e-3ac6-448e-8970-2219bb1559ad",
   "metadata": {},
   "outputs": [
    {
     "data": {
      "image/png": "[encoded data removed]",
      "text/plain": [
       "<Figure size 842.4x595.44 with 1 Axes>"
      ]
     },
     "metadata": {},
     "output_type": "display_data"
    }
   ],
   "source": [
    "sns.set(rc={'figure.figsize':(11.7,8.27)})\n",
    "groups = sns.histplot(data = df, \n",
    "              x='ctr', \n",
    "              hue='exp_group', \n",
    "              palette = ['r', 'b'],\n",
    "              alpha=0.5,\n",
    "              kde=False)"
   ]
  },
  {
   "cell_type": "code",
   "execution_count": 23,
   "id": "50841f44-4d9c-434a-8b6b-b3688864fa64",
   "metadata": {},
   "outputs": [
    {
     "name": "stdout",
     "output_type": "stream",
     "text": [
      "Т-тест 0.685373331140751. Отличие не прокрасилось\n"
     ]
    }
   ],
   "source": [
    "_, p_value_tt = stats.ttest_ind(df[df.exp_group == 1].ctr,\n",
    "                df[df.exp_group == 2].ctr,\n",
    "                equal_var=False)\n",
    "print(f'Т-тест {p_value_tt}. Отличие {\"не \" if p_value_tt > ALFA else \"\"}прокрасилось')"
   ]
  },
  {
   "cell_type": "code",
   "execution_count": 24,
   "id": "664412bf-cde0-42ad-815f-042b8757c616",
   "metadata": {},
   "outputs": [
    {
     "name": "stdout",
     "output_type": "stream",
     "text": [
      "Манн-Уитни 4.632205841806026e-45. Отличие прокрасилось\n"
     ]
    }
   ],
   "source": [
    "_, p_value_mw = stats.mannwhitneyu(df[df.exp_group == 1].ctr,\n",
    "                df[df.exp_group == 2].ctr)\n",
    "print(f'Манн-Уитни {p_value_mw}. Отличие {\"не \" if p_value_mw > ALFA else \"\"}прокрасилось')"
   ]
  },
  {
   "cell_type": "markdown",
   "id": "5f9e7c7b-de28-4148-8c19-bbbb7017da62",
   "metadata": {},
   "source": [
    "### Тесты сработали по-разному. Это может быть из-за того, что Т-тест требует нормального распределения, когда ctr группы 2 распределён не совсем нормально. Выражены два \"горба\". <br> Тест Манна-Уитни сработал предположительно лучше. Необходима проверка другими методами. Нет оснований отклонить нулевую гипотезу."
   ]
  },
  {
   "cell_type": "markdown",
   "id": "52538a76-7a9d-42e3-a203-59b29889f700",
   "metadata": {},
   "source": [
    "## Сглаженный CTR"
   ]
  },
  {
   "cell_type": "code",
   "execution_count": 48,
   "id": "b116f8e7-87e4-4f71-afa5-f41d131599d5",
   "metadata": {},
   "outputs": [],
   "source": [
    "def get_smothed_ctr(user_likes, user_views, global_ctr, alpha):\n",
    "    smothed_ctr = (user_likes + alpha * global_ctr) / (user_views + alpha)\n",
    "    return smothed_ctr\n",
    "\n",
    "global_ctr_1 = df[df.exp_group == 1].likes.sum()/df[df.exp_group == 1].views.sum()\n",
    "global_ctr_2 = df[df.exp_group == 2].likes.sum()/df[df.exp_group == 2].views.sum()"
   ]
  },
  {
   "cell_type": "code",
   "execution_count": 60,
   "id": "fe7e2c9b-6bfc-4fd4-a308-06e6f9ea4210",
   "metadata": {},
   "outputs": [],
   "source": [
    "group1['smothed_ctr'] = df.apply(\n",
    "    lambda x: get_smothed_ctr(x['likes'], x['views'], global_ctr_1, 5), axis=1)\n",
    "group2['smothed_ctr'] = df.apply(\n",
    "    lambda x: get_smothed_ctr(x['likes'], x['views'], global_ctr_2, 5), axis=1)\n",
    "df_combined = pd.concat([group1, group2])"
   ]
  },
  {
   "cell_type": "code",
   "execution_count": 105,
   "id": "d94a86a5-b8da-4114-963b-d7c93598dcea",
   "metadata": {},
   "outputs": [
    {
     "data": {
      "text/plain": [
       "<Axes: xlabel='smothed_ctr', ylabel='Count'>"
      ]
     },
     "execution_count": 105,
     "metadata": {},
     "output_type": "execute_result"
    },
    {
     "data": {
      "image/png": "[encoded data removed]",
      "text/plain": [
       "<Figure size 842.4x595.44 with 1 Axes>"
      ]
     },
     "metadata": {},
     "output_type": "display_data"
    }
   ],
   "source": [
    "sns.histplot(\n",
    "    data = df_combined, \n",
    "    x='smothed_ctr', \n",
    "    hue='exp_group', \n",
    "    palette = ['r', 'b'],\n",
    "    alpha=0.5,\n",
    "    kde=False\n",
    ")"
   ]
  },
  {
   "cell_type": "code",
   "execution_count": 63,
   "id": "ca603a96-f0ba-4738-88b3-d4cbb261237b",
   "metadata": {},
   "outputs": [
    {
     "name": "stdout",
     "output_type": "stream",
     "text": [
      "Т-тест 0.05166679015318526. Отличие не прокрасилось\n"
     ]
    }
   ],
   "source": [
    "_, p_value_tt = stats.ttest_ind(df_combined[df_combined.exp_group == 1].smothed_ctr,\n",
    "                df_combined[df_combined.exp_group == 2].smothed_ctr,\n",
    "                equal_var=False)\n",
    "print(f'Т-тест {p_value_tt}. Отличие {\"не \" if p_value_tt > ALFA else \"\"}прокрасилось')"
   ]
  },
  {
   "cell_type": "code",
   "execution_count": 64,
   "id": "20c9b979-b26e-48f9-b211-a60a3f94782d",
   "metadata": {},
   "outputs": [
    {
     "name": "stdout",
     "output_type": "stream",
     "text": [
      "Манн-Уитни 2.396534039374286e-50. Отличие прокрасилось\n"
     ]
    }
   ],
   "source": [
    "_, p_value_mw = stats.mannwhitneyu(df_combined[df_combined.exp_group == 1].smothed_ctr,\n",
    "                df_combined[df_combined.exp_group == 2].smothed_ctr)\n",
    "print(f'Манн-Уитни {p_value_mw}. Отличие {\"не \" if p_value_mw > ALFA else \"\"}прокрасилось')"
   ]
  },
  {
   "cell_type": "markdown",
   "id": "dee76768-66af-4f37-9400-9119dc990b2c",
   "metadata": {},
   "source": [
    "### При использовании сглаженного CTR получилась та же картина с тестами, что и в прошлый раз. Однако Т-тест вернул гораздо меньшее p-value, почти совпадающее с альфой эксперимента. <br> С определённым допущением (t-test чувствителен к нормальности распределения) можно отклонить нулевую гипотезу. Проведём дальнейшие тесты."
   ]
  },
  {
   "cell_type": "markdown",
   "id": "c7a0096e-1e11-4836-bd61-174f23830ee5",
   "metadata": {},
   "source": [
    "## Пуассоновский бустреп"
   ]
  },
  {
   "cell_type": "code",
   "execution_count": 103,
   "id": "a7bc12b6-e2f9-4aae-8bff-907bbd1da7d9",
   "metadata": {},
   "outputs": [
    {
     "data": {
      "text/plain": [
       "<matplotlib.legend.Legend at 0x7f1dc5bdafa0>"
      ]
     },
     "execution_count": 103,
     "metadata": {},
     "output_type": "execute_result"
    },
    {
     "data": {
      "image/png": "[encoded data removed]",
      "text/plain": [
       "<Figure size 842.4x595.44 with 1 Axes>"
      ]
     },
     "metadata": {},
     "output_type": "display_data"
    }
   ],
   "source": [
    "def bootstrap(likes1, views1, likes2, views2, n_bootstrap=2000):\n",
    "    poisson_bootstraps1 = stats.poisson(1).rvs(\n",
    "        (n_bootstrap, len(likes1))).astype(np.int64)\n",
    "    poisson_bootstraps2 = stats.poisson(1).rvs(\n",
    "            (n_bootstrap, len(likes2))).astype(np.int64)\n",
    "    globalCTR1 = (poisson_bootstraps1*likes1).sum(axis=1)/(poisson_bootstraps1*views1).sum(axis=1)\n",
    "    globalCTR2 = (poisson_bootstraps2*likes2).sum(axis=1)/(poisson_bootstraps2*views2).sum(axis=1)\n",
    "    return globalCTR1, globalCTR2\n",
    "\n",
    "likes1 = df[df.exp_group == 1].likes.to_numpy()\n",
    "views1 = df[df.exp_group == 1].views.to_numpy()\n",
    "likes2 = df[df.exp_group == 2].likes.to_numpy()\n",
    "views2 = df[df.exp_group == 2].views.to_numpy()\n",
    "\n",
    "ctr1, ctr2 = bootstrap(likes1, views1, likes2, views2)\n",
    "\n",
    "sns.histplot(ctr1, label='CTR 1', alpha=0.5)\n",
    "sns.histplot(ctr2, label='CTR 2', alpha=0.5)\n",
    "plt.legend()"
   ]
  },
  {
   "cell_type": "code",
   "execution_count": 104,
   "id": "c713cab3-bb04-404b-8d4b-005c03392caa",
   "metadata": {},
   "outputs": [
    {
     "data": {
      "text/plain": [
       "<Axes: ylabel='Count'>"
      ]
     },
     "execution_count": 104,
     "metadata": {},
     "output_type": "execute_result"
    },
    {
     "data": {
      "image/png": "[encoded data removed]",
      "text/plain": [
       "<Figure size 842.4x595.44 with 1 Axes>"
      ]
     },
     "metadata": {},
     "output_type": "display_data"
    }
   ],
   "source": [
    "sns.histplot(ctr2 - ctr1)"
   ]
  },
  {
   "cell_type": "markdown",
   "id": "069f48fc-e3fa-446b-bb96-0ed9ccb1017d",
   "metadata": {},
   "source": [
    "### Разница между глобальными CTR (тест - контроль) в результате бустрепа оказалась отрицательной. \n",
    "#### Можно сделать вывод, что эффект в тестовой группе оказался больше отрицательным, чем положительным."
   ]
  },
  {
   "cell_type": "markdown",
   "id": "5ed9b43d-1695-4dd8-9284-4a3270a9c128",
   "metadata": {},
   "source": [
    "## Бакетное преобразование"
   ]
  },
  {
   "cell_type": "code",
   "execution_count": 82,
   "id": "e1c249fc-c7d9-47c7-a7eb-60b9064a061c",
   "metadata": {},
   "outputs": [
    {
     "data": {
      "text/html": [
       "<div>\n",
       "<style scoped>\n",
       "    .dataframe tbody tr th:only-of-type {\n",
       "        vertical-align: middle;\n",
       "    }\n",
       "\n",
       "    .dataframe tbody tr th {\n",
       "        vertical-align: top;\n",
       "    }\n",
       "\n",
       "    .dataframe thead th {\n",
       "        text-align: right;\n",
       "    }\n",
       "</style>\n",
       "<table border=\"1\" class=\"dataframe\">\n",
       "  <thead>\n",
       "    <tr style=\"text-align: right;\">\n",
       "      <th></th>\n",
       "      <th>exp_group</th>\n",
       "      <th>bucket</th>\n",
       "      <th>bucket_ctr</th>\n",
       "      <th>ctr9</th>\n",
       "    </tr>\n",
       "  </thead>\n",
       "  <tbody>\n",
       "    <tr>\n",
       "      <th>0</th>\n",
       "      <td>1</td>\n",
       "      <td>0</td>\n",
       "      <td>0.200592</td>\n",
       "      <td>0.305556</td>\n",
       "    </tr>\n",
       "    <tr>\n",
       "      <th>1</th>\n",
       "      <td>2</td>\n",
       "      <td>0</td>\n",
       "      <td>0.196510</td>\n",
       "      <td>0.385321</td>\n",
       "    </tr>\n",
       "    <tr>\n",
       "      <th>2</th>\n",
       "      <td>1</td>\n",
       "      <td>1</td>\n",
       "      <td>0.208799</td>\n",
       "      <td>0.311111</td>\n",
       "    </tr>\n",
       "    <tr>\n",
       "      <th>3</th>\n",
       "      <td>2</td>\n",
       "      <td>1</td>\n",
       "      <td>0.210375</td>\n",
       "      <td>0.485714</td>\n",
       "    </tr>\n",
       "    <tr>\n",
       "      <th>4</th>\n",
       "      <td>1</td>\n",
       "      <td>2</td>\n",
       "      <td>0.204632</td>\n",
       "      <td>0.314286</td>\n",
       "    </tr>\n",
       "    <tr>\n",
       "      <th>...</th>\n",
       "      <td>...</td>\n",
       "      <td>...</td>\n",
       "      <td>...</td>\n",
       "      <td>...</td>\n",
       "    </tr>\n",
       "    <tr>\n",
       "      <th>95</th>\n",
       "      <td>2</td>\n",
       "      <td>47</td>\n",
       "      <td>0.196808</td>\n",
       "      <td>0.428571</td>\n",
       "    </tr>\n",
       "    <tr>\n",
       "      <th>96</th>\n",
       "      <td>1</td>\n",
       "      <td>48</td>\n",
       "      <td>0.216369</td>\n",
       "      <td>0.320000</td>\n",
       "    </tr>\n",
       "    <tr>\n",
       "      <th>97</th>\n",
       "      <td>2</td>\n",
       "      <td>48</td>\n",
       "      <td>0.194780</td>\n",
       "      <td>0.400000</td>\n",
       "    </tr>\n",
       "    <tr>\n",
       "      <th>98</th>\n",
       "      <td>1</td>\n",
       "      <td>49</td>\n",
       "      <td>0.206288</td>\n",
       "      <td>0.333333</td>\n",
       "    </tr>\n",
       "    <tr>\n",
       "      <th>99</th>\n",
       "      <td>2</td>\n",
       "      <td>49</td>\n",
       "      <td>0.192512</td>\n",
       "      <td>0.382353</td>\n",
       "    </tr>\n",
       "  </tbody>\n",
       "</table>\n",
       "<p>100 rows × 4 columns</p>\n",
       "</div>"
      ],
      "text/plain": [
       "    exp_group  bucket  bucket_ctr      ctr9\n",
       "0           1       0    0.200592  0.305556\n",
       "1           2       0    0.196510  0.385321\n",
       "2           1       1    0.208799  0.311111\n",
       "3           2       1    0.210375  0.485714\n",
       "4           1       2    0.204632  0.314286\n",
       "..        ...     ...         ...       ...\n",
       "95          2      47    0.196808  0.428571\n",
       "96          1      48    0.216369  0.320000\n",
       "97          2      48    0.194780  0.400000\n",
       "98          1      49    0.206288  0.333333\n",
       "99          2      49    0.192512  0.382353\n",
       "\n",
       "[100 rows x 4 columns]"
      ]
     },
     "execution_count": 82,
     "metadata": {},
     "output_type": "execute_result"
    }
   ],
   "source": [
    "q = \"\"\"\n",
    "\n",
    "SELECT exp_group, bucket,\n",
    "    sum(likes)/sum(views) as bucket_ctr,\n",
    "    quantileExact(0.9)(ctr) as ctr9\n",
    "FROM (SELECT exp_group, \n",
    "        xxHash64(user_id)%50 as bucket,\n",
    "        user_id,\n",
    "        sum(action = 'like') as likes,\n",
    "        sum(action = 'view') as views,\n",
    "        likes/views as ctr\n",
    "    FROM {db}.feed_actions \n",
    "    WHERE toDate(time) between '2024-01-26' and '2024-02-01'\n",
    "        and exp_group in (1,2)\n",
    "    GROUP BY exp_group, bucket, user_id)\n",
    "GROUP BY exp_group, bucket\n",
    "\"\"\"\n",
    "\n",
    "df_buckets = pandahouse.read_clickhouse(q, connection=connection)\n",
    "df_buckets"
   ]
  },
  {
   "cell_type": "code",
   "execution_count": 85,
   "id": "ac6abecf-6992-45ac-b0bf-9eb6d43610ee",
   "metadata": {},
   "outputs": [
    {
     "name": "stdout",
     "output_type": "stream",
     "text": [
      "Т-тест 4.592644937473873e-07. Отличие прокрасилось\n"
     ]
    }
   ],
   "source": [
    "_, p_value_tt = stats.ttest_ind(df_buckets[df_buckets.exp_group == 1].bucket_ctr,\n",
    "                df_buckets[df_buckets.exp_group == 2].bucket_ctr,\n",
    "                equal_var=False)\n",
    "print(f'Т-тест {p_value_tt}. Отличие {\"не \" if p_value_tt > ALFA else \"\"}прокрасилось')"
   ]
  },
  {
   "cell_type": "code",
   "execution_count": 87,
   "id": "1c6f878a-0616-4d38-8667-6141fb349c4b",
   "metadata": {},
   "outputs": [
    {
     "name": "stdout",
     "output_type": "stream",
     "text": [
      "Манн-Уитни 2.6576427804010095e-07. Отличие прокрасилось\n"
     ]
    }
   ],
   "source": [
    "_, p_value_mw = stats.mannwhitneyu(df_buckets[df_buckets.exp_group == 1].bucket_ctr,\n",
    "                df_buckets[df_buckets.exp_group == 2].bucket_ctr,\n",
    "                alternative = 'two-sided')\n",
    "print(f'Манн-Уитни {p_value_mw}. Отличие {\"не \" if p_value_mw > ALFA else \"\"}прокрасилось')"
   ]
  },
  {
   "cell_type": "markdown",
   "id": "d86a14bf-d2e8-4b7e-b01c-879bbf8f72a9",
   "metadata": {},
   "source": [
    "### Результаты тестов поверх бакетного преобразования прокрасились оба. То есть мы можем отклонить нулевую гипотезу в пользу альтернативной. CTR двух групп отличается."
   ]
  },
  {
   "cell_type": "markdown",
   "id": "eb2a7ac6-1475-45bd-8c7b-1f02ef06540d",
   "metadata": {},
   "source": [
    "# Вывод\n",
    "<h4>Анализируя первую диаграмму распределения CTR в тестовой группе есть несколько возможных вариантов почему так могло произойти:\n",
    "    <ul>\n",
    "    <li> Новый алгоритм рекомендаций часть пользователей встретила положительно, а часть отрицательно.</li><br>\n",
    "    <li> Пользователи в тестовой группе в те же даты принимали участие в другом тестировании в составе разных групп с функционалом, который косвенно или прямо влиял на CTR.</li>\n",
    "    </ul>\n",
    "Суммируя результаты всех проведённых тестов и принимая во внимание отрицательную разницу метрики в Пуассоновском бутстрепе можно сделать следующий вывод: <br> Статистически значимые отличия в группах есть, но эффект от нового алгоритма в целом снизил ключевую метрику для тестовой группы. <br> Я бы не рекомендовал выкатывать функционал на новых пользователей.</h4>"
   ]
  },
  {
   "cell_type": "code",
   "execution_count": null,
   "id": "4a14c29d-613f-47aa-82f6-54e6638c136e",
   "metadata": {},
   "outputs": [],
   "source": []
  }
 ],
 "metadata": {
  "kernelspec": {
   "display_name": "Python 3 (ipykernel)",
   "language": "python",
   "name": "python3"
  },
  "language_info": {
   "codemirror_mode": {
    "name": "ipython",
    "version": 3
   },
   "file_extension": ".py",
   "mimetype": "text/x-python",
   "name": "python",
   "nbconvert_exporter": "python",
   "pygments_lexer": "ipython3",
   "version": "3.8.10"
  }
 },
 "nbformat": 4,
 "nbformat_minor": 5
}
