{
 "cells": [
  {
   "cell_type": "markdown",
   "id": "81aa2a2e-55a8-4fd1-8160-3c66f7c2721e",
   "metadata": {},
   "source": [
    "## ЗАДАНИЕ 1\n",
    "А/А-тест с '2024-01-19' по '2024-01-25'\n",
    "Нужно сделать симуляцию, как будто мы провели 10000 А/А-тестов.\n",
    "На каждой итерации нужно сформировать подвыборки без повторения в 500 юзеров из 2 и 3 экспериментальной группы. Провести сравнение этих подвыборок t-testом.\n",
    "1. Построить гистограмму распределения получившихся 10000 p-values.\n",
    "2. Посчитать, какой процент p values оказался меньше либо равен 0.05\n",
    "3. Написать вывод по проведенному А/А-тесту, корректно ли работает наша система сплитования."
   ]
  },
  {
   "cell_type": "code",
   "execution_count": 1,
   "id": "d92d608d-8f9a-4a7b-8ded-557c9489c72b",
   "metadata": {},
   "outputs": [],
   "source": [
    "import pandahouse\n",
    "import pandas as pd\n",
    "import seaborn as sns\n",
    "import matplotlib.pyplot as plt\n",
    "import numpy as np\n",
    "from scipy import stats\n",
    "%matplotlib inline"
   ]
  },
  {
   "cell_type": "code",
   "execution_count": 2,
   "id": "59057750-541a-4172-99e7-8c779c0e7117",
   "metadata": {},
   "outputs": [],
   "source": [
    "connection = {'host': '*',\n",
    "'database':'*',\n",
    "'user':'*',\n",
    "'password':'*'\n",
    "}\n",
    "ALFA = 0.05"
   ]
  },
  {
   "cell_type": "code",
   "execution_count": 40,
   "id": "0f90b81e-44c6-4128-bcb6-a33d68590757",
   "metadata": {},
   "outputs": [
    {
     "data": {
      "text/html": [
       "<div>\n",
       "<style scoped>\n",
       "    .dataframe tbody tr th:only-of-type {\n",
       "        vertical-align: middle;\n",
       "    }\n",
       "\n",
       "    .dataframe tbody tr th {\n",
       "        vertical-align: top;\n",
       "    }\n",
       "\n",
       "    .dataframe thead th {\n",
       "        text-align: right;\n",
       "    }\n",
       "</style>\n",
       "<table border=\"1\" class=\"dataframe\">\n",
       "  <thead>\n",
       "    <tr style=\"text-align: right;\">\n",
       "      <th></th>\n",
       "      <th>user_id</th>\n",
       "      <th>likes</th>\n",
       "      <th>views</th>\n",
       "      <th>ctr</th>\n",
       "    </tr>\n",
       "    <tr>\n",
       "      <th>exp_group</th>\n",
       "      <th></th>\n",
       "      <th></th>\n",
       "      <th></th>\n",
       "      <th></th>\n",
       "    </tr>\n",
       "  </thead>\n",
       "  <tbody>\n",
       "    <tr>\n",
       "      <th>2</th>\n",
       "      <td>8362</td>\n",
       "      <td>8362</td>\n",
       "      <td>8362</td>\n",
       "      <td>8362</td>\n",
       "    </tr>\n",
       "    <tr>\n",
       "      <th>3</th>\n",
       "      <td>8425</td>\n",
       "      <td>8425</td>\n",
       "      <td>8425</td>\n",
       "      <td>8425</td>\n",
       "    </tr>\n",
       "  </tbody>\n",
       "</table>\n",
       "</div>"
      ],
      "text/plain": [
       "           user_id  likes  views   ctr\n",
       "exp_group                             \n",
       "2             8362   8362   8362  8362\n",
       "3             8425   8425   8425  8425"
      ]
     },
     "execution_count": 40,
     "metadata": {},
     "output_type": "execute_result"
    }
   ],
   "source": [
    "q = \"\"\"\n",
    "SELECT exp_group, \n",
    "    user_id,\n",
    "    sum(action = 'like') as likes,\n",
    "    sum(action = 'view') as views,\n",
    "    likes/views as ctr\n",
    "FROM simulator_20240220.feed_actions \n",
    "WHERE toDate(time) between '2024-01-19' and '2024-01-25'\n",
    "    and exp_group in (2,3)\n",
    "GROUP BY exp_group, user_id\n",
    "\"\"\"\n",
    "\n",
    "df = pandahouse.read_clickhouse(q, connection=connection)\n",
    "df.groupby('exp_group').count()"
   ]
  },
  {
   "cell_type": "code",
   "execution_count": 41,
   "id": "b61d01c9-4a02-4cd4-a4f8-a1ddf6ee6a45",
   "metadata": {},
   "outputs": [
    {
     "data": {
      "image/png": "[encoded data removed]",
      "text/plain": [
       "<Figure size 842.4x595.44 with 1 Axes>"
      ]
     },
     "metadata": {},
     "output_type": "display_data"
    }
   ],
   "source": [
    "sns.set(rc={'figure.figsize':(11.7,8.27)})\n",
    "groups = sns.histplot(data = df, \n",
    "              x='ctr', \n",
    "              hue='exp_group', \n",
    "              palette = ['r', 'b'],\n",
    "              alpha=0.5,\n",
    "              kde=False)"
   ]
  },
  {
   "cell_type": "raw",
   "id": "96647170-6ab5-4ec9-9b09-da85b3489764",
   "metadata": {},
   "source": [
    "\"На глаз\" группы одинаковые."
   ]
  },
  {
   "cell_type": "markdown",
   "id": "cea64c5c-5513-4ce1-a6bd-71a8e4d86c09",
   "metadata": {
    "tags": []
   },
   "source": [
    "<h2>Постановка гипотез</h2>\n",
    "<ul>\n",
    "    <li> Нулевая гипотеза: средние CTR двух групп одинаковый. </li>\n",
    "    <li> Альтернативная: средние CTR групп отличается.</li>\n",
    "</ul>"
   ]
  },
  {
   "cell_type": "code",
   "execution_count": 52,
   "id": "8e13cef8-b3e6-4440-b53d-ad78bb7ec038",
   "metadata": {},
   "outputs": [
    {
     "name": "stdout",
     "output_type": "stream",
     "text": [
      "Т-тест 0.508153138292614. Отличие не прокрасилось\n"
     ]
    }
   ],
   "source": [
    "_, p_value_tt = stats.ttest_ind(df[df.exp_group == 2].ctr,\n",
    "                df[df.exp_group == 3].ctr,\n",
    "                equal_var=False)\n",
    "print(f'Т-тест {p_value_tt}. Отличие {\"не \" if p_value_tt > ALFA else \"\"}прокрасилось')"
   ]
  },
  {
   "cell_type": "code",
   "execution_count": 53,
   "id": "88661589-0fd2-4938-8d90-e65eaf974282",
   "metadata": {},
   "outputs": [
    {
     "name": "stdout",
     "output_type": "stream",
     "text": [
      "Манн-Уитни 0.8340910379715747. Отличие не прокрасилось\n"
     ]
    }
   ],
   "source": [
    "_, p_value_mw = stats.mannwhitneyu(df[df.exp_group == 2].ctr,\n",
    "                df[df.exp_group == 3].ctr)\n",
    "print(f'Манн-Уитни {p_value_mw}. Отличие {\"не \" if p_value_mw > ALFA else \"\"}прокрасилось')"
   ]
  },
  {
   "cell_type": "code",
   "execution_count": 44,
   "id": "a5d6682e-aae5-44e4-b8f7-da78c154326a",
   "metadata": {},
   "outputs": [
    {
     "data": {
      "text/plain": [
       "<Axes: ylabel='Count'>"
      ]
     },
     "execution_count": 44,
     "metadata": {},
     "output_type": "execute_result"
    },
    {
     "data": {
      "image/png": "[encoded data removed]",
      "text/plain": [
       "<Figure size 842.4x595.44 with 1 Axes>"
      ]
     },
     "metadata": {},
     "output_type": "display_data"
    }
   ],
   "source": [
    "p_values = np.array([])\n",
    "for _ in range(10000):\n",
    "    sample_2 = df[df.exp_group == 2].ctr.sample(n = 500, replace = False).values\n",
    "    sample_3 = df[df.exp_group == 3].ctr.sample(n = 500, replace = False).values\n",
    "    _, pvalue = stats.ttest_ind(sample_2, sample_3, equal_var=False)\n",
    "    p_values = np.append(p_values, pvalue)\n",
    "sns.histplot(data = p_values)"
   ]
  },
  {
   "cell_type": "code",
   "execution_count": 45,
   "id": "c6f18366-5d21-4514-8fef-d16d0bc2b3c6",
   "metadata": {},
   "outputs": [
    {
     "name": "stdout",
     "output_type": "stream",
     "text": [
      "В 4.75% случаев получаются статзначимые отличия. \n",
      "Что не позволяет отклонить нулевую гипотезу\n"
     ]
    }
   ],
   "source": [
    "percent = (np.sum(p_values <= ALFA) / len(p_values)) * 100\n",
    "print(\n",
    "    f'''В {percent}% случаев получаются статзначимые отличия. \n",
    "Что {\"не \" if percent < ALFA * 100 else \"\"}позволяет отклонить нулевую гипотезу'''\n",
    ")"
   ]
  },
  {
   "cell_type": "markdown",
   "id": "91a77c05-4a85-4d91-a094-0821c417ce10",
   "metadata": {
    "tags": []
   },
   "source": [
    "## Вывод.\n",
    "<h4><p>A/A-тест не выявил ошибок в системе сплитования. \n",
    "Т-тест и Манн-Уитни по цельным группам не прокрасились. При имитации 10000 АА тестов процент p-value меньших или равных 0.05 составляет менее 5%. То же самое видно на гистограмме распределения p-values АА-тестов.</p>\n",
    "<p>Нулевая гипотеза верна. Ч.т.д.</p></h4>"
   ]
  }
 ],
 "metadata": {
  "kernelspec": {
   "display_name": "Python 3 (ipykernel)",
   "language": "python",
   "name": "python3"
  },
  "language_info": {
   "codemirror_mode": {
    "name": "ipython",
    "version": 3
   },
   "file_extension": ".py",
   "mimetype": "text/x-python",
   "name": "python",
   "nbconvert_exporter": "python",
   "pygments_lexer": "ipython3",
   "version": "3.8.10"
  }
 },
 "nbformat": 4,
 "nbformat_minor": 5
}
